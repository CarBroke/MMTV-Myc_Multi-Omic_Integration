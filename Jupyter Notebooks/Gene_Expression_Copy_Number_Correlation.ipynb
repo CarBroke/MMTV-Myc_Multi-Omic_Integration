{
 "cells": [
  {
   "cell_type": "code",
   "execution_count": 13,
   "id": "cb444fd4",
   "metadata": {},
   "outputs": [],
   "source": [
    "import math\n",
    "import pandas as pd\n",
    "import numpy as np\n",
    "import sys\n",
    "import csv\n",
    "import statistics\n",
    "\n",
    "# Make it so really large files don't cause the system to error out\n",
    "maxInt = sys.maxsize\n",
    "\n",
    "while True:\n",
    "    # decrease the maxInt value by factor 10 \n",
    "    # as long as the OverflowError occurs.\n",
    "\n",
    "    try:\n",
    "        csv.field_size_limit(maxInt)\n",
    "        break\n",
    "    except OverflowError:\n",
    "        maxInt = int(maxInt/10)\n",
    "\n",
    "\n",
    "df1 = pd.read_excel(\"Myc_Copy_Number_and_Gene_Expression_Correlation.xlsx\", usecols=[1,2,3]).sort_values(by=\"pearson_r\", ascending=False).drop_duplicates(subset='hugo_gene')\n",
    "df2 = pd.read_excel(\"newrefFlat.xlsx\", usecols=[0,2,4,5], names=['hugo_gene','chromosome','start','end']).drop_duplicates(subset='hugo_gene')\n",
    "df = df2.merge(df1, how='inner', on='hugo_gene')\n",
    "df = df.sort_values(by=['chromosome','start'])\n",
    "df['chromosome'] = \"mm\" + df['chromosome'].astype(str)\n",
    "with pd.ExcelWriter('Myc_Gene_Names_with_Expression_and_Copy_Number_Correlation.xlsx') as writer:\n",
    "        df.to_excel(writer, sheet_name='Total_Info')\n",
    "        df.to_excel(writer, sheet_name='Circos_kendall', columns=['chromosome','start','end','kendall_t'])\n",
    "        df.to_excel(writer, sheet_name='Circos_pearson', columns=['chromosome','start','end','pearson_r'])"
   ]
  },
  {
   "cell_type": "code",
   "execution_count": null,
   "id": "b173cd3b",
   "metadata": {},
   "outputs": [],
   "source": []
  }
 ],
 "metadata": {
  "kernelspec": {
   "display_name": "Python 3 (ipykernel)",
   "language": "python",
   "name": "python3"
  },
  "language_info": {
   "codemirror_mode": {
    "name": "ipython",
    "version": 3
   },
   "file_extension": ".py",
   "mimetype": "text/x-python",
   "name": "python",
   "nbconvert_exporter": "python",
   "pygments_lexer": "ipython3",
   "version": "3.9.7"
  }
 },
 "nbformat": 4,
 "nbformat_minor": 5
}
