{
 "cells": [
  {
   "cell_type": "code",
   "execution_count": 6,
   "id": "2be7d217",
   "metadata": {},
   "outputs": [],
   "source": [
    "#FGFR2\n",
    "import pandas as pd\n",
    "\n",
    "df = pd.read_excel('FGFR2_Amplification_KM_Plot_OS_Data.xlsx', sheet_name='Amplified')\n",
    "df = df.sort_values(by=[\"Time (months)\"], ascending=True)\n",
    "df = df.drop_duplicates(subset=['Case ID'], keep='last')\n",
    "df1 = pd.read_excel('FGFR2_Amplification_KM_Plot_OS_Data.xlsx', sheet_name='Diploid')\n",
    "df1 = df1.sort_values(by=[\"Time (months)\"], ascending=True)\n",
    "df1 = df1.drop_duplicates(subset=['Case ID'], keep='last')\n",
    "with pd.ExcelWriter('FGFR2_Amplification_KM_Plot_OS_Data_Processed.xlsx') as writer:  \n",
    "    df.to_excel(writer, sheet_name='Amplified')\n",
    "    df1.to_excel(writer, sheet_name='Diploid')"
   ]
  },
  {
   "cell_type": "code",
   "execution_count": 9,
   "id": "62489e57",
   "metadata": {},
   "outputs": [],
   "source": [
    "#OBSCN\n",
    "import pandas as pd\n",
    "\n",
    "df = pd.read_excel('OBSCN_Mutation_KM_Plot_Data.xlsx', sheet_name='Mutated')\n",
    "df = df.sort_values(by=[\"Time (months)\"], ascending=True)\n",
    "df = df.drop_duplicates(subset=['Case ID'], keep='last')\n",
    "df1 = pd.read_excel('OBSCN_Mutation_KM_Plot_Data.xlsx', sheet_name='WT')\n",
    "df1 = df1.sort_values(by=[\"Time (months)\"], ascending=True)\n",
    "df1 = df1.drop_duplicates(subset=['Case ID'], keep='last')\n",
    "with pd.ExcelWriter('OBSCN_Mutation_KM_Plot_Data_Processed.xlsx') as writer:  \n",
    "    df.to_excel(writer, sheet_name='Mutated')\n",
    "    df1.to_excel(writer, sheet_name='WT')"
   ]
  },
  {
   "cell_type": "code",
   "execution_count": 2,
   "id": "1f0c723a",
   "metadata": {},
   "outputs": [],
   "source": [
    "# ERBB2, Col1A1, MYC KM Plot OS Data processing\n",
    "import pandas as pd\n",
    "\n",
    "\n",
    "df = pd.read_excel('Col1A1_ERBB2_MYC_Amp_KM_Plot_Data.xlsx', sheet_name='Unaltered')\n",
    "df = df.sort_values(by=[\"Time (months)\"], ascending=True)\n",
    "df = df.drop_duplicates(subset=['Case ID'], keep='last')\n",
    "df1 = pd.read_excel('Col1A1_ERBB2_MYC_Amp_KM_Plot_Data.xlsx', sheet_name='ERBB2 Amp')\n",
    "df1 = df1.sort_values(by=[\"Time (months)\"], ascending=True)\n",
    "df1 = df1.drop_duplicates(subset=['Case ID'], keep='last')\n",
    "df2 = pd.read_excel('Col1A1_ERBB2_MYC_Amp_KM_Plot_Data.xlsx', sheet_name='Col1A1 Amp')\n",
    "df2 = df2.sort_values(by=[\"Time (months)\"], ascending=True)\n",
    "df2 = df2.drop_duplicates(subset=['Case ID'], keep='last')\n",
    "df3 = pd.read_excel('Col1A1_ERBB2_MYC_Amp_KM_Plot_Data.xlsx', sheet_name='MYC Amp')\n",
    "df3 = df3.sort_values(by=[\"Time (months)\"], ascending=True)\n",
    "df3 = df3.drop_duplicates(subset=['Case ID'], keep='last')\n",
    "with pd.ExcelWriter('Col1A1_ERBB2_MYC_Amp_KM_Plot_Data_Processed.xlsx') as writer:  \n",
    "    df.to_excel(writer, sheet_name='Unaltered')\n",
    "    df1.to_excel(writer, sheet_name='ERBB2 Amp')\n",
    "    df2.to_excel(writer, sheet_name='Col1A1 Amp')\n",
    "    df3.to_excel(writer, sheet_name='MYC Amp')"
   ]
  },
  {
   "cell_type": "code",
   "execution_count": 3,
   "id": "851b56ae",
   "metadata": {},
   "outputs": [],
   "source": [
    "# ERBB2 and Col1A1 KM Plot OS Data processing\n",
    "import pandas as pd\n",
    "\n",
    "\n",
    "df = pd.read_excel('Col1A1_ERBB2_Amp_KM_Plot_Data.xlsx', sheet_name='Unaltered')\n",
    "df = df.sort_values(by=[\"Time (months)\"], ascending=True)\n",
    "df = df.drop_duplicates(subset=['Case ID'], keep='last')\n",
    "df1 = pd.read_excel('Col1A1_ERBB2_MYC_Amp_KM_Plot_Data.xlsx', sheet_name='ERBB2 Amp')\n",
    "df1 = df1.sort_values(by=[\"Time (months)\"], ascending=True)\n",
    "df1 = df1.drop_duplicates(subset=['Case ID'], keep='last')\n",
    "df2 = pd.read_excel('Col1A1_ERBB2_MYC_Amp_KM_Plot_Data.xlsx', sheet_name='Col1A1 Amp')\n",
    "df2 = df2.sort_values(by=[\"Time (months)\"], ascending=True)\n",
    "df2 = df2.drop_duplicates(subset=['Case ID'], keep='last')\n",
    "with pd.ExcelWriter('Col1A1_ERBB2_Amp_KM_Plot_Data_Processed.xlsx') as writer:  \n",
    "    df.to_excel(writer, sheet_name='Unaltered')\n",
    "    df1.to_excel(writer, sheet_name='ERBB2 Amp')\n",
    "    df2.to_excel(writer, sheet_name='Col1A1 Amp')"
   ]
  },
  {
   "cell_type": "code",
   "execution_count": 11,
   "id": "49f190bb",
   "metadata": {},
   "outputs": [],
   "source": [
    "# KRAS Amplification and Activating Mutations\n",
    "\n",
    "import pandas as pd\n",
    "\n",
    "df = pd.read_excel('KRAS_OS_KM_Plot_Data.xlsx', sheet_name='Amp or Mut')\n",
    "df = df.sort_values(by=[\"Time (months)\"], ascending=True)\n",
    "df = df.drop_duplicates(subset=['Case ID'], keep='last')\n",
    "df1 = pd.read_excel('KRAS_OS_KM_Plot_Data.xlsx', sheet_name='Unaltered')\n",
    "df1 = df1.sort_values(by=[\"Time (months)\"], ascending=True)\n",
    "df1 = df1.drop_duplicates(subset=['Case ID'], keep='last')\n",
    "with pd.ExcelWriter('KRAS_OS_KM_Plot_Data_Processed.xlsx') as writer:  \n",
    "    df.to_excel(writer, sheet_name='Amp or Mut')\n",
    "    df1.to_excel(writer, sheet_name='Unaltered')"
   ]
  },
  {
   "cell_type": "code",
   "execution_count": 1,
   "id": "323ba378",
   "metadata": {},
   "outputs": [],
   "source": [
    "# MYC Amplification\n",
    "\n",
    "import pandas as pd\n",
    "\n",
    "df = pd.read_excel('MYC_Amp_OS_KM_Plot_Data.xlsx', sheet_name='Amplified')\n",
    "df = df.sort_values(by=[\"Time (months)\"], ascending=True)\n",
    "df = df.drop_duplicates(subset=['Case ID'], keep='last')\n",
    "df1 = pd.read_excel('MYC_Amp_OS_KM_Plot_Data.xlsx', sheet_name='Unaltered')\n",
    "df1 = df1.sort_values(by=[\"Time (months)\"], ascending=True)\n",
    "df1 = df1.drop_duplicates(subset=['Case ID'], keep='last')\n",
    "with pd.ExcelWriter('MYC_Amp_OS_KM_Plot_Data_Processed.xlsx') as writer:  \n",
    "    df.to_excel(writer, sheet_name='Amplified')\n",
    "    df1.to_excel(writer, sheet_name='Unaltered')"
   ]
  },
  {
   "cell_type": "code",
   "execution_count": null,
   "id": "674fcbfb",
   "metadata": {},
   "outputs": [],
   "source": []
  }
 ],
 "metadata": {
  "kernelspec": {
   "display_name": "Python 3 (ipykernel)",
   "language": "python",
   "name": "python3"
  },
  "language_info": {
   "codemirror_mode": {
    "name": "ipython",
    "version": 3
   },
   "file_extension": ".py",
   "mimetype": "text/x-python",
   "name": "python",
   "nbconvert_exporter": "python",
   "pygments_lexer": "ipython3",
   "version": "3.9.7"
  }
 },
 "nbformat": 4,
 "nbformat_minor": 5
}
